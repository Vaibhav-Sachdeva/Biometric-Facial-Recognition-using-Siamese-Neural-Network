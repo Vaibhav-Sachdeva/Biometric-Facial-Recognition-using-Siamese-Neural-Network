{
 "cells": [
  {
   "cell_type": "markdown",
   "metadata": {},
   "source": [
    "# Face Recognition using CNN"
   ]
  },
  {
   "cell_type": "markdown",
   "metadata": {},
   "source": [
    " # Step1:\n",
    " \n",
    "At the first, you should input the required libraries:"
   ]
  },
  {
   "cell_type": "code",
   "execution_count": 1,
   "metadata": {},
   "outputs": [],
   "source": [
    "import keras\n",
    "from keras.models import Sequential\n",
    "from keras.layers import Conv2D, MaxPooling2D, Dense, Flatten, Dropout\n",
    "from keras.optimizers import Adam\n",
    "from keras.callbacks import TensorBoard\n",
    "\n",
    "import numpy as np\n",
    "import pandas as pd\n",
    "import matplotlib.pyplot as plt\n",
    "from sklearn.model_selection import train_test_split\n",
    "\n",
    "from sklearn.metrics import confusion_matrix\n",
    "from sklearn.metrics import classification_report\n",
    "from sklearn.metrics import roc_curve, auc\n",
    "from sklearn.metrics import accuracy_score\n",
    "from keras.utils import np_utils\n",
    "import itertools"
   ]
  },
  {
   "cell_type": "markdown",
   "metadata": {},
   "source": [
    "# Step2:\n",
    "\n",
    "* Load Dataset :\n",
    "\n",
    "After loading the Dataset you have to normalize every image.\n",
    "\n",
    "Note: an image is a Uint8 matrix of pixels and for calculation, you need to convert the format of the image to float or double"
   ]
  },
  {
   "cell_type": "code",
   "execution_count": 4,
   "metadata": {},
   "outputs": [
    {
     "name": "stdout",
     "output_type": "stream",
     "text": [
      "x_train : (240, 10304)\n",
      "y_train shape: (240,)\n",
      "x_test shape: (160, 10304)\n",
      "y_test shape: (160,)\n"
     ]
    }
   ],
   "source": [
    "#load dataset\n",
    "data = np.load('C:/Users/vaibh/OneDrive/Desktop/Face Recognition using CNN/ORL CNN Code/ORL_faces/ORL_faces.npz') \n",
    "\n",
    "# load the \"Train Images\"\n",
    "x_train = data['trainX']\n",
    "# Normalize every image\n",
    "x_train = np.array(x_train,dtype='float32')/255\n",
    "\n",
    "x_test = data['testX']\n",
    "x_test = np.array(x_test,dtype='float32')/255\n",
    "\n",
    "# load the Label of Images\n",
    "y_train= data['trainY']\n",
    "y_test= data['testY']\n",
    "\n",
    "# show the train and test Data format\n",
    "print('x_train : {}'.format(x_train.shape))\n",
    "print('y_train shape: {}'.format(y_train.shape))\n",
    "print('x_test shape: {}'.format(x_test.shape))\n",
    "print('y_test shape: {}'.format(y_test.shape))"
   ]
  },
  {
   "cell_type": "code",
   "execution_count": 5,
   "metadata": {},
   "outputs": [],
   "source": [
    "import matplotlib.pyplot as plt\n",
    "import numpy as np\n",
    "from PIL import Image as im\n",
    "\n",
    "data = x_train[0]"
   ]
  },
  {
   "cell_type": "code",
   "execution_count": 6,
   "metadata": {},
   "outputs": [
    {
     "data": {
      "text/plain": [
       "(10304,)"
      ]
     },
     "execution_count": 6,
     "metadata": {},
     "output_type": "execute_result"
    }
   ],
   "source": [
    "data.shape"
   ]
  },
  {
   "cell_type": "code",
   "execution_count": 7,
   "metadata": {},
   "outputs": [],
   "source": [
    "data_1 = data.reshape(112,92)\n",
    "data_1 = im.fromarray(np.uint8(data_1 * 255) , 'L')\n",
    "data_1.show()"
   ]
  },
  {
   "cell_type": "markdown",
   "metadata": {},
   "source": [
    "# Step 3\n",
    "\n",
    "Split DataSet : Validation data and Train \n",
    "\n",
    "Validation DataSet: this data set is used to minimize overfitting.If the accuracy over the training data set increases, but the accuracy over then validation data set stays the same or decreases, then you're overfitting your neural network and you should stop training.\n",
    "\n",
    " * Note: we usually use 30 percent of every dataset as the validation data but Here we only used 5 percent because the number of images in this dataset is very low. \n",
    "\n"
   ]
  },
  {
   "cell_type": "code",
   "execution_count": 8,
   "metadata": {},
   "outputs": [],
   "source": [
    "x_train, x_valid, y_train, y_valid= train_test_split(\n",
    "    x_train, y_train, test_size=.05, random_state=1234,)"
   ]
  },
  {
   "cell_type": "markdown",
   "metadata": {},
   "source": [
    "# Step 4\n",
    "\n",
    "for using the CNN, we need to change The size of images ( The size of images must be the same)"
   ]
  },
  {
   "cell_type": "code",
   "execution_count": 9,
   "metadata": {},
   "outputs": [
    {
     "name": "stdout",
     "output_type": "stream",
     "text": [
      "Number of Training images: 228\n",
      "Number of Testing images: 160\n"
     ]
    }
   ],
   "source": [
    "im_rows=112\n",
    "im_cols=92\n",
    "batch_size=512\n",
    "im_shape=(im_rows, im_cols, 1)\n",
    "\n",
    "#change the size of images\n",
    "x_train = x_train.reshape(x_train.shape[0], *im_shape)\n",
    "x_test = x_test.reshape(x_test.shape[0], *im_shape)\n",
    "x_valid = x_valid.reshape(x_valid.shape[0], *im_shape)\n",
    "\n",
    "print('Number of Training images: {}'.format(y_train.shape[0]))\n",
    "print('Number of Testing images: {}'.format(y_test.shape[0]))"
   ]
  },
  {
   "cell_type": "markdown",
   "metadata": {},
   "source": [
    "# Step 5\n",
    "\n",
    "\n",
    "Build CNN model:\n",
    " CNN have 3 main layer: \n",
    " * 1-Convolotional layer \n",
    " * 2- pooling layer  \n",
    " * 3- fully connected layer\n",
    " \n",
    " we could build a new architecture of CNN by changing the number and position of layers.\n",
    " "
   ]
  },
  {
   "cell_type": "code",
   "execution_count": 12,
   "metadata": {},
   "outputs": [],
   "source": [
    "cnn_model= Sequential([\n",
    "    Conv2D(filters=36, kernel_size=7, activation='relu', input_shape= im_shape),\n",
    "    MaxPooling2D(pool_size=2),\n",
    "    Conv2D(filters=54, kernel_size=5, activation='relu', input_shape= im_shape),\n",
    "    MaxPooling2D(pool_size=2),\n",
    "    Flatten(),\n",
    "    Dense(2024, activation='relu'),\n",
    "    Dropout(0.5),\n",
    "    Dense(1024, activation='relu'),\n",
    "    Dropout(0.5),\n",
    "    Dense(512, activation='relu'),\n",
    "    Dropout(0.5),\n",
    "    #20 is the number of outputs\n",
    "    Dense(20, activation='softmax')  \n",
    "])\n",
    "\n",
    "cnn_model.compile(\n",
    "    loss='sparse_categorical_crossentropy',#'categorical_crossentropy',\n",
    "    optimizer=Adam(lr=0.0001),\n",
    "    metrics=['accuracy']\n",
    ")"
   ]
  },
  {
   "cell_type": "markdown",
   "metadata": {},
   "source": [
    "Show the model's parameters."
   ]
  },
  {
   "cell_type": "code",
   "execution_count": 13,
   "metadata": {},
   "outputs": [
    {
     "name": "stdout",
     "output_type": "stream",
     "text": [
      "Model: \"sequential_1\"\n",
      "_________________________________________________________________\n",
      "Layer (type)                 Output Shape              Param #   \n",
      "=================================================================\n",
      "conv2d_2 (Conv2D)            (None, 106, 86, 36)       1800      \n",
      "_________________________________________________________________\n",
      "max_pooling2d_2 (MaxPooling2 (None, 53, 43, 36)        0         \n",
      "_________________________________________________________________\n",
      "conv2d_3 (Conv2D)            (None, 49, 39, 54)        48654     \n",
      "_________________________________________________________________\n",
      "max_pooling2d_3 (MaxPooling2 (None, 24, 19, 54)        0         \n",
      "_________________________________________________________________\n",
      "flatten_1 (Flatten)          (None, 24624)             0         \n",
      "_________________________________________________________________\n",
      "dense_4 (Dense)              (None, 2024)              49841000  \n",
      "_________________________________________________________________\n",
      "dropout_3 (Dropout)          (None, 2024)              0         \n",
      "_________________________________________________________________\n",
      "dense_5 (Dense)              (None, 1024)              2073600   \n",
      "_________________________________________________________________\n",
      "dropout_4 (Dropout)          (None, 1024)              0         \n",
      "_________________________________________________________________\n",
      "dense_6 (Dense)              (None, 512)               524800    \n",
      "_________________________________________________________________\n",
      "dropout_5 (Dropout)          (None, 512)               0         \n",
      "_________________________________________________________________\n",
      "dense_7 (Dense)              (None, 20)                10260     \n",
      "=================================================================\n",
      "Total params: 52,500,114\n",
      "Trainable params: 52,500,114\n",
      "Non-trainable params: 0\n",
      "_________________________________________________________________\n"
     ]
    }
   ],
   "source": [
    "cnn_model.summary()"
   ]
  },
  {
   "cell_type": "markdown",
   "metadata": {},
   "source": [
    "# Step 6\n",
    "\n",
    "Train the Model\n",
    "\n",
    "* Note: You can change the number of epochs\n"
   ]
  },
  {
   "cell_type": "code",
   "execution_count": 14,
   "metadata": {},
   "outputs": [
    {
     "name": "stdout",
     "output_type": "stream",
     "text": [
      "Epoch 1/150\n",
      "1/1 - 0s - loss: 2.9988 - accuracy: 0.0658 - val_loss: 2.9868 - val_accuracy: 0.0000e+00\n",
      "Epoch 2/150\n",
      "1/1 - 0s - loss: 2.9995 - accuracy: 0.0570 - val_loss: 2.9992 - val_accuracy: 0.0833\n",
      "Epoch 3/150\n",
      "1/1 - 0s - loss: 2.9833 - accuracy: 0.0833 - val_loss: 3.0003 - val_accuracy: 0.0000e+00\n",
      "Epoch 4/150\n",
      "1/1 - 0s - loss: 3.0074 - accuracy: 0.0614 - val_loss: 3.0001 - val_accuracy: 0.1667\n",
      "Epoch 5/150\n",
      "1/1 - 0s - loss: 2.9850 - accuracy: 0.0746 - val_loss: 2.9996 - val_accuracy: 0.1667\n",
      "Epoch 6/150\n",
      "1/1 - 0s - loss: 2.9908 - accuracy: 0.0746 - val_loss: 2.9996 - val_accuracy: 0.0833\n",
      "Epoch 7/150\n",
      "1/1 - 0s - loss: 3.0242 - accuracy: 0.0482 - val_loss: 3.0023 - val_accuracy: 0.0833\n",
      "Epoch 8/150\n",
      "1/1 - 0s - loss: 2.9848 - accuracy: 0.0614 - val_loss: 3.0033 - val_accuracy: 0.0833\n",
      "Epoch 9/150\n",
      "1/1 - 0s - loss: 2.9821 - accuracy: 0.0746 - val_loss: 3.0026 - val_accuracy: 0.0833\n",
      "Epoch 10/150\n",
      "1/1 - 0s - loss: 2.9768 - accuracy: 0.0746 - val_loss: 3.0021 - val_accuracy: 0.0833\n",
      "Epoch 11/150\n",
      "1/1 - 0s - loss: 2.9761 - accuracy: 0.0614 - val_loss: 2.9997 - val_accuracy: 0.0833\n",
      "Epoch 12/150\n",
      "1/1 - 0s - loss: 2.9691 - accuracy: 0.0702 - val_loss: 2.9973 - val_accuracy: 0.0833\n",
      "Epoch 13/150\n",
      "1/1 - 0s - loss: 2.9713 - accuracy: 0.0658 - val_loss: 2.9949 - val_accuracy: 0.0000e+00\n",
      "Epoch 14/150\n",
      "1/1 - 0s - loss: 2.9586 - accuracy: 0.0833 - val_loss: 2.9946 - val_accuracy: 0.0000e+00\n",
      "Epoch 15/150\n",
      "1/1 - 0s - loss: 2.9497 - accuracy: 0.0746 - val_loss: 2.9947 - val_accuracy: 0.0000e+00\n",
      "Epoch 16/150\n",
      "1/1 - 0s - loss: 2.9596 - accuracy: 0.0921 - val_loss: 2.9937 - val_accuracy: 0.0833\n",
      "Epoch 17/150\n",
      "1/1 - 0s - loss: 2.9458 - accuracy: 0.0921 - val_loss: 2.9937 - val_accuracy: 0.0833\n",
      "Epoch 18/150\n",
      "1/1 - 0s - loss: 2.9647 - accuracy: 0.0877 - val_loss: 2.9919 - val_accuracy: 0.0000e+00\n",
      "Epoch 19/150\n",
      "1/1 - 0s - loss: 2.9487 - accuracy: 0.1228 - val_loss: 2.9874 - val_accuracy: 0.0833\n",
      "Epoch 20/150\n",
      "1/1 - 0s - loss: 2.9435 - accuracy: 0.1140 - val_loss: 2.9838 - val_accuracy: 0.0833\n",
      "Epoch 21/150\n",
      "1/1 - 0s - loss: 2.9345 - accuracy: 0.1272 - val_loss: 2.9798 - val_accuracy: 0.0833\n",
      "Epoch 22/150\n",
      "1/1 - 0s - loss: 2.9296 - accuracy: 0.1579 - val_loss: 2.9772 - val_accuracy: 0.0833\n",
      "Epoch 23/150\n",
      "1/1 - 0s - loss: 2.9099 - accuracy: 0.1667 - val_loss: 2.9729 - val_accuracy: 0.0833\n",
      "Epoch 24/150\n",
      "1/1 - 0s - loss: 2.8985 - accuracy: 0.1974 - val_loss: 2.9666 - val_accuracy: 0.0833\n",
      "Epoch 25/150\n",
      "1/1 - 0s - loss: 2.8977 - accuracy: 0.1886 - val_loss: 2.9583 - val_accuracy: 0.0833\n",
      "Epoch 26/150\n",
      "1/1 - 0s - loss: 2.8632 - accuracy: 0.1930 - val_loss: 2.9468 - val_accuracy: 0.1667\n",
      "Epoch 27/150\n",
      "1/1 - 0s - loss: 2.8650 - accuracy: 0.1535 - val_loss: 2.9334 - val_accuracy: 0.1667\n",
      "Epoch 28/150\n",
      "1/1 - 0s - loss: 2.8432 - accuracy: 0.1930 - val_loss: 2.9171 - val_accuracy: 0.1667\n",
      "Epoch 29/150\n",
      "1/1 - 0s - loss: 2.8638 - accuracy: 0.1535 - val_loss: 2.9005 - val_accuracy: 0.1667\n",
      "Epoch 30/150\n",
      "1/1 - 0s - loss: 2.8367 - accuracy: 0.1974 - val_loss: 2.8861 - val_accuracy: 0.1667\n",
      "Epoch 31/150\n",
      "1/1 - 0s - loss: 2.8343 - accuracy: 0.1930 - val_loss: 2.8714 - val_accuracy: 0.1667\n",
      "Epoch 32/150\n",
      "1/1 - 0s - loss: 2.7767 - accuracy: 0.2149 - val_loss: 2.8555 - val_accuracy: 0.1667\n",
      "Epoch 33/150\n",
      "1/1 - 0s - loss: 2.7585 - accuracy: 0.2061 - val_loss: 2.8376 - val_accuracy: 0.1667\n",
      "Epoch 34/150\n",
      "1/1 - 0s - loss: 2.7942 - accuracy: 0.1754 - val_loss: 2.8194 - val_accuracy: 0.1667\n",
      "Epoch 35/150\n",
      "1/1 - 0s - loss: 2.7070 - accuracy: 0.2544 - val_loss: 2.7948 - val_accuracy: 0.1667\n",
      "Epoch 36/150\n",
      "1/1 - 0s - loss: 2.6869 - accuracy: 0.2544 - val_loss: 2.7636 - val_accuracy: 0.1667\n",
      "Epoch 37/150\n",
      "1/1 - 0s - loss: 2.6700 - accuracy: 0.2588 - val_loss: 2.7326 - val_accuracy: 0.1667\n",
      "Epoch 38/150\n",
      "1/1 - 0s - loss: 2.6068 - accuracy: 0.2544 - val_loss: 2.6980 - val_accuracy: 0.1667\n",
      "Epoch 39/150\n",
      "1/1 - 0s - loss: 2.6077 - accuracy: 0.2588 - val_loss: 2.6652 - val_accuracy: 0.1667\n",
      "Epoch 40/150\n",
      "1/1 - 0s - loss: 2.6282 - accuracy: 0.2149 - val_loss: 2.6292 - val_accuracy: 0.0833\n",
      "Epoch 41/150\n",
      "1/1 - 0s - loss: 2.5495 - accuracy: 0.2719 - val_loss: 2.5819 - val_accuracy: 0.1667\n",
      "Epoch 42/150\n",
      "1/1 - 0s - loss: 2.4928 - accuracy: 0.2763 - val_loss: 2.5333 - val_accuracy: 0.1667\n",
      "Epoch 43/150\n",
      "1/1 - 0s - loss: 2.4945 - accuracy: 0.2939 - val_loss: 2.4824 - val_accuracy: 0.1667\n",
      "Epoch 44/150\n",
      "1/1 - 0s - loss: 2.3740 - accuracy: 0.3465 - val_loss: 2.4301 - val_accuracy: 0.3333\n",
      "Epoch 45/150\n",
      "1/1 - 0s - loss: 2.3888 - accuracy: 0.3026 - val_loss: 2.3654 - val_accuracy: 0.2500\n",
      "Epoch 46/150\n",
      "1/1 - 0s - loss: 2.2862 - accuracy: 0.3377 - val_loss: 2.2989 - val_accuracy: 0.4167\n",
      "Epoch 47/150\n",
      "1/1 - 0s - loss: 2.2559 - accuracy: 0.3377 - val_loss: 2.2470 - val_accuracy: 0.5000\n",
      "Epoch 48/150\n",
      "1/1 - 0s - loss: 2.1787 - accuracy: 0.3421 - val_loss: 2.2004 - val_accuracy: 0.5000\n",
      "Epoch 49/150\n",
      "1/1 - 0s - loss: 2.1347 - accuracy: 0.4167 - val_loss: 2.1476 - val_accuracy: 0.5000\n",
      "Epoch 50/150\n",
      "1/1 - 0s - loss: 2.1232 - accuracy: 0.3640 - val_loss: 2.0704 - val_accuracy: 0.5000\n",
      "Epoch 51/150\n",
      "1/1 - 0s - loss: 2.0397 - accuracy: 0.4254 - val_loss: 1.9914 - val_accuracy: 0.6667\n",
      "Epoch 52/150\n",
      "1/1 - 0s - loss: 2.0736 - accuracy: 0.3728 - val_loss: 1.9298 - val_accuracy: 0.6667\n",
      "Epoch 53/150\n",
      "1/1 - 0s - loss: 1.9571 - accuracy: 0.4298 - val_loss: 1.8647 - val_accuracy: 0.6667\n",
      "Epoch 54/150\n",
      "1/1 - 0s - loss: 1.8581 - accuracy: 0.4693 - val_loss: 1.8132 - val_accuracy: 0.7500\n",
      "Epoch 55/150\n",
      "1/1 - 0s - loss: 1.8539 - accuracy: 0.4693 - val_loss: 1.7211 - val_accuracy: 0.7500\n",
      "Epoch 56/150\n",
      "1/1 - 0s - loss: 1.7441 - accuracy: 0.4912 - val_loss: 1.6157 - val_accuracy: 0.8333\n",
      "Epoch 57/150\n",
      "1/1 - 0s - loss: 1.6629 - accuracy: 0.4868 - val_loss: 1.5352 - val_accuracy: 0.8333\n",
      "Epoch 58/150\n",
      "1/1 - 0s - loss: 1.7329 - accuracy: 0.4912 - val_loss: 1.4910 - val_accuracy: 0.8333\n",
      "Epoch 59/150\n",
      "1/1 - 0s - loss: 1.6364 - accuracy: 0.5175 - val_loss: 1.4991 - val_accuracy: 0.7500\n",
      "Epoch 60/150\n",
      "1/1 - 0s - loss: 1.6101 - accuracy: 0.5351 - val_loss: 1.4544 - val_accuracy: 0.7500\n",
      "Epoch 61/150\n",
      "1/1 - 0s - loss: 1.5274 - accuracy: 0.5658 - val_loss: 1.3487 - val_accuracy: 0.7500\n",
      "Epoch 62/150\n",
      "1/1 - 0s - loss: 1.4804 - accuracy: 0.5746 - val_loss: 1.2725 - val_accuracy: 0.8333\n",
      "Epoch 63/150\n",
      "1/1 - 0s - loss: 1.4317 - accuracy: 0.5877 - val_loss: 1.2243 - val_accuracy: 0.7500\n",
      "Epoch 64/150\n",
      "1/1 - 0s - loss: 1.4300 - accuracy: 0.5789 - val_loss: 1.2016 - val_accuracy: 0.7500\n",
      "Epoch 65/150\n",
      "1/1 - 0s - loss: 1.2553 - accuracy: 0.6667 - val_loss: 1.2111 - val_accuracy: 0.6667\n",
      "Epoch 66/150\n",
      "1/1 - 0s - loss: 1.2958 - accuracy: 0.6009 - val_loss: 1.0818 - val_accuracy: 0.7500\n",
      "Epoch 67/150\n",
      "1/1 - 0s - loss: 1.2038 - accuracy: 0.6360 - val_loss: 0.9795 - val_accuracy: 0.8333\n",
      "Epoch 68/150\n",
      "1/1 - 0s - loss: 1.1247 - accuracy: 0.6886 - val_loss: 0.9300 - val_accuracy: 0.8333\n",
      "Epoch 69/150\n",
      "1/1 - 0s - loss: 1.1465 - accuracy: 0.6623 - val_loss: 0.8624 - val_accuracy: 0.8333\n",
      "Epoch 70/150\n",
      "1/1 - 0s - loss: 1.0966 - accuracy: 0.6886 - val_loss: 0.8270 - val_accuracy: 0.7500\n",
      "Epoch 71/150\n",
      "1/1 - 0s - loss: 1.1295 - accuracy: 0.6711 - val_loss: 0.8174 - val_accuracy: 0.8333\n",
      "Epoch 72/150\n",
      "1/1 - 0s - loss: 0.9784 - accuracy: 0.6886 - val_loss: 0.7312 - val_accuracy: 0.7500\n",
      "Epoch 73/150\n",
      "1/1 - 0s - loss: 0.9327 - accuracy: 0.7149 - val_loss: 0.6686 - val_accuracy: 0.9167\n",
      "Epoch 74/150\n",
      "1/1 - 0s - loss: 0.9813 - accuracy: 0.7281 - val_loss: 0.6353 - val_accuracy: 0.8333\n",
      "Epoch 75/150\n",
      "1/1 - 0s - loss: 0.9760 - accuracy: 0.7237 - val_loss: 0.5985 - val_accuracy: 0.8333\n",
      "Epoch 76/150\n",
      "1/1 - 0s - loss: 0.8529 - accuracy: 0.7456 - val_loss: 0.5759 - val_accuracy: 0.8333\n",
      "Epoch 77/150\n",
      "1/1 - 0s - loss: 0.8746 - accuracy: 0.7412 - val_loss: 0.5664 - val_accuracy: 0.8333\n",
      "Epoch 78/150\n",
      "1/1 - 0s - loss: 0.8182 - accuracy: 0.7588 - val_loss: 0.5104 - val_accuracy: 1.0000\n",
      "Epoch 79/150\n",
      "1/1 - 0s - loss: 0.7412 - accuracy: 0.7982 - val_loss: 0.4620 - val_accuracy: 0.9167\n",
      "Epoch 80/150\n",
      "1/1 - 0s - loss: 0.7264 - accuracy: 0.8158 - val_loss: 0.4264 - val_accuracy: 0.9167\n",
      "Epoch 81/150\n",
      "1/1 - 0s - loss: 0.7262 - accuracy: 0.8114 - val_loss: 0.3849 - val_accuracy: 1.0000\n",
      "Epoch 82/150\n",
      "1/1 - 0s - loss: 0.7762 - accuracy: 0.7281 - val_loss: 0.3644 - val_accuracy: 1.0000\n",
      "Epoch 83/150\n",
      "1/1 - 0s - loss: 0.6445 - accuracy: 0.8158 - val_loss: 0.3573 - val_accuracy: 0.9167\n",
      "Epoch 84/150\n",
      "1/1 - 0s - loss: 0.5845 - accuracy: 0.8202 - val_loss: 0.3299 - val_accuracy: 0.9167\n"
     ]
    },
    {
     "name": "stdout",
     "output_type": "stream",
     "text": [
      "Epoch 85/150\n",
      "1/1 - 0s - loss: 0.5634 - accuracy: 0.8553 - val_loss: 0.2917 - val_accuracy: 0.9167\n",
      "Epoch 86/150\n",
      "1/1 - 0s - loss: 0.6266 - accuracy: 0.8070 - val_loss: 0.2556 - val_accuracy: 1.0000\n",
      "Epoch 87/150\n",
      "1/1 - 0s - loss: 0.5806 - accuracy: 0.8158 - val_loss: 0.2275 - val_accuracy: 1.0000\n",
      "Epoch 88/150\n",
      "1/1 - 0s - loss: 0.5572 - accuracy: 0.8509 - val_loss: 0.2140 - val_accuracy: 1.0000\n",
      "Epoch 89/150\n",
      "1/1 - 0s - loss: 0.4819 - accuracy: 0.8728 - val_loss: 0.2117 - val_accuracy: 1.0000\n",
      "Epoch 90/150\n",
      "1/1 - 0s - loss: 0.4351 - accuracy: 0.8728 - val_loss: 0.2206 - val_accuracy: 1.0000\n",
      "Epoch 91/150\n",
      "1/1 - 0s - loss: 0.5071 - accuracy: 0.8465 - val_loss: 0.2207 - val_accuracy: 1.0000\n",
      "Epoch 92/150\n",
      "1/1 - 0s - loss: 0.4673 - accuracy: 0.8553 - val_loss: 0.1929 - val_accuracy: 1.0000\n",
      "Epoch 93/150\n",
      "1/1 - 0s - loss: 0.4361 - accuracy: 0.8728 - val_loss: 0.1735 - val_accuracy: 1.0000\n",
      "Epoch 94/150\n",
      "1/1 - 0s - loss: 0.4222 - accuracy: 0.8860 - val_loss: 0.1663 - val_accuracy: 1.0000\n",
      "Epoch 95/150\n",
      "1/1 - 0s - loss: 0.3538 - accuracy: 0.9035 - val_loss: 0.1657 - val_accuracy: 1.0000\n",
      "Epoch 96/150\n",
      "1/1 - 0s - loss: 0.3355 - accuracy: 0.9079 - val_loss: 0.1699 - val_accuracy: 1.0000\n",
      "Epoch 97/150\n",
      "1/1 - 0s - loss: 0.3762 - accuracy: 0.8860 - val_loss: 0.1658 - val_accuracy: 0.9167\n",
      "Epoch 98/150\n",
      "1/1 - 0s - loss: 0.3723 - accuracy: 0.8904 - val_loss: 0.1497 - val_accuracy: 1.0000\n",
      "Epoch 99/150\n",
      "1/1 - 0s - loss: 0.3394 - accuracy: 0.9211 - val_loss: 0.1320 - val_accuracy: 1.0000\n",
      "Epoch 100/150\n",
      "1/1 - 0s - loss: 0.3848 - accuracy: 0.8904 - val_loss: 0.1205 - val_accuracy: 1.0000\n",
      "Epoch 101/150\n",
      "1/1 - 0s - loss: 0.3370 - accuracy: 0.9035 - val_loss: 0.1111 - val_accuracy: 1.0000\n",
      "Epoch 102/150\n",
      "1/1 - 0s - loss: 0.2968 - accuracy: 0.9167 - val_loss: 0.1079 - val_accuracy: 1.0000\n",
      "Epoch 103/150\n",
      "1/1 - 0s - loss: 0.2745 - accuracy: 0.9430 - val_loss: 0.0997 - val_accuracy: 1.0000\n",
      "Epoch 104/150\n",
      "1/1 - 0s - loss: 0.2610 - accuracy: 0.9298 - val_loss: 0.0913 - val_accuracy: 1.0000\n",
      "Epoch 105/150\n",
      "1/1 - 0s - loss: 0.2741 - accuracy: 0.9079 - val_loss: 0.0811 - val_accuracy: 1.0000\n",
      "Epoch 106/150\n",
      "1/1 - 0s - loss: 0.2609 - accuracy: 0.9211 - val_loss: 0.0759 - val_accuracy: 1.0000\n",
      "Epoch 107/150\n",
      "1/1 - 0s - loss: 0.2620 - accuracy: 0.9342 - val_loss: 0.0723 - val_accuracy: 1.0000\n",
      "Epoch 108/150\n",
      "1/1 - 0s - loss: 0.2439 - accuracy: 0.9474 - val_loss: 0.0702 - val_accuracy: 1.0000\n",
      "Epoch 109/150\n",
      "1/1 - 0s - loss: 0.2340 - accuracy: 0.9211 - val_loss: 0.0833 - val_accuracy: 1.0000\n",
      "Epoch 110/150\n",
      "1/1 - 0s - loss: 0.2282 - accuracy: 0.9561 - val_loss: 0.0840 - val_accuracy: 1.0000\n",
      "Epoch 111/150\n",
      "1/1 - 0s - loss: 0.1982 - accuracy: 0.9561 - val_loss: 0.0686 - val_accuracy: 1.0000\n",
      "Epoch 112/150\n",
      "1/1 - 0s - loss: 0.1938 - accuracy: 0.9561 - val_loss: 0.0583 - val_accuracy: 1.0000\n",
      "Epoch 113/150\n",
      "1/1 - 0s - loss: 0.2129 - accuracy: 0.9386 - val_loss: 0.0529 - val_accuracy: 1.0000\n",
      "Epoch 114/150\n",
      "1/1 - 0s - loss: 0.1559 - accuracy: 0.9825 - val_loss: 0.0473 - val_accuracy: 1.0000\n",
      "Epoch 115/150\n",
      "1/1 - 0s - loss: 0.1946 - accuracy: 0.9561 - val_loss: 0.0459 - val_accuracy: 1.0000\n",
      "Epoch 116/150\n",
      "1/1 - 0s - loss: 0.1393 - accuracy: 0.9781 - val_loss: 0.0582 - val_accuracy: 1.0000\n",
      "Epoch 117/150\n",
      "1/1 - 0s - loss: 0.2119 - accuracy: 0.9298 - val_loss: 0.0506 - val_accuracy: 1.0000\n",
      "Epoch 118/150\n",
      "1/1 - 0s - loss: 0.1845 - accuracy: 0.9561 - val_loss: 0.0347 - val_accuracy: 1.0000\n",
      "Epoch 119/150\n",
      "1/1 - 0s - loss: 0.1933 - accuracy: 0.9474 - val_loss: 0.0260 - val_accuracy: 1.0000\n",
      "Epoch 120/150\n",
      "1/1 - 0s - loss: 0.1498 - accuracy: 0.9561 - val_loss: 0.0245 - val_accuracy: 1.0000\n",
      "Epoch 121/150\n",
      "1/1 - 0s - loss: 0.1731 - accuracy: 0.9605 - val_loss: 0.0232 - val_accuracy: 1.0000\n",
      "Epoch 122/150\n",
      "1/1 - 0s - loss: 0.1106 - accuracy: 0.9781 - val_loss: 0.0262 - val_accuracy: 1.0000\n",
      "Epoch 123/150\n",
      "1/1 - 0s - loss: 0.1270 - accuracy: 0.9737 - val_loss: 0.0343 - val_accuracy: 1.0000\n",
      "Epoch 124/150\n",
      "1/1 - 0s - loss: 0.1654 - accuracy: 0.9474 - val_loss: 0.0325 - val_accuracy: 1.0000\n",
      "Epoch 125/150\n",
      "1/1 - 0s - loss: 0.1270 - accuracy: 0.9781 - val_loss: 0.0266 - val_accuracy: 1.0000\n",
      "Epoch 126/150\n",
      "1/1 - 0s - loss: 0.1071 - accuracy: 0.9781 - val_loss: 0.0245 - val_accuracy: 1.0000\n",
      "Epoch 127/150\n",
      "1/1 - 0s - loss: 0.0854 - accuracy: 0.9825 - val_loss: 0.0248 - val_accuracy: 1.0000\n",
      "Epoch 128/150\n",
      "1/1 - 0s - loss: 0.1107 - accuracy: 0.9781 - val_loss: 0.0238 - val_accuracy: 1.0000\n",
      "Epoch 129/150\n",
      "1/1 - 0s - loss: 0.1116 - accuracy: 0.9781 - val_loss: 0.0232 - val_accuracy: 1.0000\n",
      "Epoch 130/150\n",
      "1/1 - 0s - loss: 0.0877 - accuracy: 0.9781 - val_loss: 0.0248 - val_accuracy: 1.0000\n",
      "Epoch 131/150\n",
      "1/1 - 0s - loss: 0.0867 - accuracy: 0.9825 - val_loss: 0.0267 - val_accuracy: 1.0000\n",
      "Epoch 132/150\n",
      "1/1 - 0s - loss: 0.0739 - accuracy: 0.9868 - val_loss: 0.0258 - val_accuracy: 1.0000\n",
      "Epoch 133/150\n",
      "1/1 - 0s - loss: 0.0745 - accuracy: 0.9868 - val_loss: 0.0231 - val_accuracy: 1.0000\n",
      "Epoch 134/150\n",
      "1/1 - 0s - loss: 0.1022 - accuracy: 0.9737 - val_loss: 0.0235 - val_accuracy: 1.0000\n",
      "Epoch 135/150\n",
      "1/1 - 0s - loss: 0.0761 - accuracy: 0.9912 - val_loss: 0.0227 - val_accuracy: 1.0000\n",
      "Epoch 136/150\n",
      "1/1 - 0s - loss: 0.1073 - accuracy: 0.9781 - val_loss: 0.0192 - val_accuracy: 1.0000\n",
      "Epoch 137/150\n",
      "1/1 - 0s - loss: 0.0672 - accuracy: 0.9825 - val_loss: 0.0145 - val_accuracy: 1.0000\n",
      "Epoch 138/150\n",
      "1/1 - 0s - loss: 0.0773 - accuracy: 0.9868 - val_loss: 0.0108 - val_accuracy: 1.0000\n",
      "Epoch 139/150\n",
      "1/1 - 0s - loss: 0.0983 - accuracy: 0.9605 - val_loss: 0.0080 - val_accuracy: 1.0000\n",
      "Epoch 140/150\n",
      "1/1 - 0s - loss: 0.1010 - accuracy: 0.9693 - val_loss: 0.0068 - val_accuracy: 1.0000\n",
      "Epoch 141/150\n",
      "1/1 - 0s - loss: 0.0988 - accuracy: 0.9825 - val_loss: 0.0066 - val_accuracy: 1.0000\n",
      "Epoch 142/150\n",
      "1/1 - 0s - loss: 0.0881 - accuracy: 0.9693 - val_loss: 0.0068 - val_accuracy: 1.0000\n",
      "Epoch 143/150\n",
      "1/1 - 0s - loss: 0.0651 - accuracy: 0.9868 - val_loss: 0.0071 - val_accuracy: 1.0000\n",
      "Epoch 144/150\n",
      "1/1 - 0s - loss: 0.0509 - accuracy: 0.9956 - val_loss: 0.0074 - val_accuracy: 1.0000\n",
      "Epoch 145/150\n",
      "1/1 - 0s - loss: 0.0509 - accuracy: 0.9912 - val_loss: 0.0075 - val_accuracy: 1.0000\n",
      "Epoch 146/150\n",
      "1/1 - 0s - loss: 0.0633 - accuracy: 0.9868 - val_loss: 0.0077 - val_accuracy: 1.0000\n",
      "Epoch 147/150\n",
      "1/1 - 0s - loss: 0.0982 - accuracy: 0.9737 - val_loss: 0.0084 - val_accuracy: 1.0000\n",
      "Epoch 148/150\n",
      "1/1 - 0s - loss: 0.0677 - accuracy: 0.9868 - val_loss: 0.0092 - val_accuracy: 1.0000\n",
      "Epoch 149/150\n",
      "1/1 - 0s - loss: 0.0758 - accuracy: 0.9781 - val_loss: 0.0097 - val_accuracy: 1.0000\n",
      "Epoch 150/150\n",
      "1/1 - 0s - loss: 0.0608 - accuracy: 0.9868 - val_loss: 0.0102 - val_accuracy: 1.0000\n"
     ]
    }
   ],
   "source": [
    "history=cnn_model.fit(\n",
    "    np.array(x_train), np.array(y_train), batch_size=512,\n",
    "    epochs=150, verbose=2,\n",
    "    validation_data=(np.array(x_valid),np.array(y_valid)),\n",
    ")"
   ]
  },
  {
   "cell_type": "markdown",
   "metadata": {},
   "source": [
    "Evaluate the test data\n"
   ]
  },
  {
   "cell_type": "code",
   "execution_count": 17,
   "metadata": {},
   "outputs": [
    {
     "name": "stdout",
     "output_type": "stream",
     "text": [
      "Test Loss 0.32\n",
      "Test Accuracy 0.94\n"
     ]
    }
   ],
   "source": [
    "scor = cnn_model.evaluate( np.array(x_test),  np.array(y_test), verbose=0)\n",
    "\n",
    "print('Test Loss {:.2f}'.format(scor[0]))\n",
    "print('Test Accuracy {:.2f}'.format(scor[1]))"
   ]
  },
  {
   "cell_type": "markdown",
   "metadata": {},
   "source": [
    "# Step 7 \n",
    "\n",
    "plot the result"
   ]
  },
  {
   "cell_type": "code",
   "execution_count": 21,
   "metadata": {},
   "outputs": [
    {
     "name": "stdout",
     "output_type": "stream",
     "text": [
      "dict_keys(['loss', 'accuracy', 'val_loss', 'val_accuracy'])\n"
     ]
    },
    {
     "data": {
      "image/png": "[encoded data removed]",
      "text/plain": [
       "<Figure size 432x288 with 1 Axes>"
      ]
     },
     "metadata": {
      "needs_background": "light"
     },
     "output_type": "display_data"
    },
    {
     "data": {
      "image/png": "[encoded data removed]",
      "text/plain": [
       "<Figure size 432x288 with 1 Axes>"
      ]
     },
     "metadata": {
      "needs_background": "light"
     },
     "output_type": "display_data"
    }
   ],
   "source": [
    "# list all data in history\n",
    "print(history.history.keys())\n",
    "# summarize history for accuracy\n",
    "plt.plot(history.history['accuracy'])\n",
    "plt.plot(history.history['val_accuracy'])\n",
    "plt.title('model accuracy')\n",
    "plt.ylabel('accuracy')\n",
    "plt.xlabel('epoch')\n",
    "plt.legend(['train', 'test'], loc='upper left')\n",
    "plt.show()\n",
    "\n",
    "# summarize history for loss\n",
    "plt.plot(history.history['loss'])\n",
    "plt.plot(history.history['val_loss'])\n",
    "plt.title('model loss')\n",
    "plt.ylabel('loss')\n",
    "plt.xlabel('epoch')\n",
    "plt.legend(['train', 'test'], loc='upper left')\n",
    "plt.show()"
   ]
  },
  {
   "cell_type": "markdown",
   "metadata": {},
   "source": [
    "# step 8\n",
    "\n",
    "Plot Confusion Matrix"
   ]
  },
  {
   "cell_type": "code",
   "execution_count": 22,
   "metadata": {},
   "outputs": [
    {
     "name": "stdout",
     "output_type": "stream",
     "text": [
      "WARNING:tensorflow:From <ipython-input-22-0cca090be0d2>:4: Sequential.predict_classes (from tensorflow.python.keras.engine.sequential) is deprecated and will be removed after 2021-01-01.\n",
      "Instructions for updating:\n",
      "Please use instead:* `np.argmax(model.predict(x), axis=-1)`,   if your model does multi-class classification   (e.g. if it uses a `softmax` last-layer activation).* `(model.predict(x) > 0.5).astype(\"int32\")`,   if your model does binary classification   (e.g. if it uses a `sigmoid` last-layer activation).\n",
      "Accuracy : \n",
      "0.9375\n",
      "Confusion matrix, without normalization\n",
      "[[8 0 0 0 0 0 0 0 0 0 0 0 0 0 0 0 0 0 0 0]\n",
      " [0 8 0 0 0 0 0 0 0 0 0 0 0 0 0 0 0 0 0 0]\n",
      " [0 0 8 0 0 0 0 0 0 0 0 0 0 0 0 0 0 0 0 0]\n",
      " [0 0 0 8 0 0 0 0 0 0 0 0 0 0 0 0 0 0 0 0]\n",
      " [0 0 0 0 6 0 0 0 0 0 0 0 0 0 0 0 0 2 0 0]\n",
      " [0 0 0 0 0 8 0 0 0 0 0 0 0 0 0 0 0 0 0 0]\n",
      " [0 0 0 0 0 0 8 0 0 0 0 0 0 0 0 0 0 0 0 0]\n",
      " [0 0 0 0 0 0 0 8 0 0 0 0 0 0 0 0 0 0 0 0]\n",
      " [0 0 0 0 0 0 0 0 8 0 0 0 0 0 0 0 0 0 0 0]\n",
      " [0 0 0 0 0 0 0 2 0 6 0 0 0 0 0 0 0 0 0 0]\n",
      " [0 0 0 0 0 0 0 0 0 0 8 0 0 0 0 0 0 0 0 0]\n",
      " [0 0 0 0 0 0 0 0 0 0 0 8 0 0 0 0 0 0 0 0]\n",
      " [0 0 0 0 0 0 0 0 0 0 0 0 8 0 0 0 0 0 0 0]\n",
      " [0 0 0 0 0 0 0 0 0 0 0 0 0 8 0 0 0 0 0 0]\n",
      " [0 0 0 0 0 0 0 0 0 0 0 0 0 0 8 0 0 0 0 0]\n",
      " [2 0 0 0 0 0 0 0 0 0 0 0 2 0 0 4 0 0 0 0]\n",
      " [0 0 0 0 0 0 0 0 0 0 0 0 0 0 0 0 8 0 0 0]\n",
      " [0 0 0 0 0 0 0 0 0 0 0 0 0 0 0 0 0 8 0 0]\n",
      " [0 0 0 0 0 0 0 2 0 0 0 0 0 0 0 0 0 0 6 0]\n",
      " [0 0 0 0 0 0 0 0 0 0 0 0 0 0 0 0 0 0 0 8]]\n",
      "Confusion matrix, without normalization\n"
     ]
    },
    {
     "data": {
      "image/png": "[encoded data removed]",
      "text/plain": [
       "<Figure size 432x288 with 2 Axes>"
      ]
     },
     "metadata": {
      "needs_background": "light"
     },
     "output_type": "display_data"
    },
    {
     "name": "stdout",
     "output_type": "stream",
     "text": [
      "Confusion matrix, without normalization\n"
     ]
    },
    {
     "data": {
      "image/png": "[encoded data removed]",
      "text/plain": [
       "<Figure size 432x288 with 2 Axes>"
      ]
     },
     "metadata": {
      "needs_background": "light"
     },
     "output_type": "display_data"
    },
    {
     "name": "stdout",
     "output_type": "stream",
     "text": [
      "Confusion matrix:\n",
      "[[8 0 0 0 0 0 0 0 0 0 0 0 0 0 0 0 0 0 0 0]\n",
      " [0 8 0 0 0 0 0 0 0 0 0 0 0 0 0 0 0 0 0 0]\n",
      " [0 0 8 0 0 0 0 0 0 0 0 0 0 0 0 0 0 0 0 0]\n",
      " [0 0 0 8 0 0 0 0 0 0 0 0 0 0 0 0 0 0 0 0]\n",
      " [0 0 0 0 6 0 0 0 0 0 0 0 0 0 0 0 0 2 0 0]\n",
      " [0 0 0 0 0 8 0 0 0 0 0 0 0 0 0 0 0 0 0 0]\n",
      " [0 0 0 0 0 0 8 0 0 0 0 0 0 0 0 0 0 0 0 0]\n",
      " [0 0 0 0 0 0 0 8 0 0 0 0 0 0 0 0 0 0 0 0]\n",
      " [0 0 0 0 0 0 0 0 8 0 0 0 0 0 0 0 0 0 0 0]\n",
      " [0 0 0 0 0 0 0 2 0 6 0 0 0 0 0 0 0 0 0 0]\n",
      " [0 0 0 0 0 0 0 0 0 0 8 0 0 0 0 0 0 0 0 0]\n",
      " [0 0 0 0 0 0 0 0 0 0 0 8 0 0 0 0 0 0 0 0]\n",
      " [0 0 0 0 0 0 0 0 0 0 0 0 8 0 0 0 0 0 0 0]\n",
      " [0 0 0 0 0 0 0 0 0 0 0 0 0 8 0 0 0 0 0 0]\n",
      " [0 0 0 0 0 0 0 0 0 0 0 0 0 0 8 0 0 0 0 0]\n",
      " [2 0 0 0 0 0 0 0 0 0 0 0 2 0 0 4 0 0 0 0]\n",
      " [0 0 0 0 0 0 0 0 0 0 0 0 0 0 0 0 8 0 0 0]\n",
      " [0 0 0 0 0 0 0 0 0 0 0 0 0 0 0 0 0 8 0 0]\n",
      " [0 0 0 0 0 0 0 2 0 0 0 0 0 0 0 0 0 0 6 0]\n",
      " [0 0 0 0 0 0 0 0 0 0 0 0 0 0 0 0 0 0 0 8]]\n",
      "              precision    recall  f1-score   support\n",
      "\n",
      "           0       0.80      1.00      0.89         8\n",
      "           1       1.00      1.00      1.00         8\n",
      "           2       1.00      1.00      1.00         8\n",
      "           3       1.00      1.00      1.00         8\n",
      "           4       1.00      0.75      0.86         8\n",
      "           5       1.00      1.00      1.00         8\n",
      "           6       1.00      1.00      1.00         8\n",
      "           7       0.67      1.00      0.80         8\n",
      "           8       1.00      1.00      1.00         8\n",
      "           9       1.00      0.75      0.86         8\n",
      "          10       1.00      1.00      1.00         8\n",
      "          11       1.00      1.00      1.00         8\n",
      "          12       0.80      1.00      0.89         8\n",
      "          13       1.00      1.00      1.00         8\n",
      "          14       1.00      1.00      1.00         8\n",
      "          15       1.00      0.50      0.67         8\n",
      "          16       1.00      1.00      1.00         8\n",
      "          17       0.80      1.00      0.89         8\n",
      "          18       1.00      0.75      0.86         8\n",
      "          19       1.00      1.00      1.00         8\n",
      "\n",
      "    accuracy                           0.94       160\n",
      "   macro avg       0.95      0.94      0.94       160\n",
      "weighted avg       0.95      0.94      0.94       160\n",
      "\n"
     ]
    }
   ],
   "source": [
    "predicted =np.array(cnn_model.predict(x_test))\n",
    "#print(predicted)\n",
    "#print(y_test)\n",
    "ynew = cnn_model.predict_classes(x_test)\n",
    "\n",
    "\n",
    "Acc=accuracy_score(y_test, ynew)\n",
    "print(\"Accuracy : \")\n",
    "print(Acc)\n",
    "#/tn, fp, fn, tp = confusion_matrix(np.array(y_test), ynew).ravel()\n",
    "cnf_matrix=confusion_matrix(np.array(y_test), ynew)\n",
    "\n",
    "y_test1 = np_utils.to_categorical(y_test, 40)\n",
    "\n",
    "\n",
    "\n",
    "def plot_confusion_matrix(cm, classes,\n",
    "                          normalize=False,\n",
    "                          title='Confusion matrix',\n",
    "                          cmap=plt.cm.Blues):\n",
    "    \"\"\"\n",
    "    This function prints and plots the confusion matrix.\n",
    "    Normalization can be applied by setting `normalize=True`.\n",
    "    \"\"\"\n",
    "    if normalize:\n",
    "        cm = cm.astype('float') / cm.sum(axis=1)[:, np.newaxis]\n",
    "        #print(\"Normalized confusion matrix\")\n",
    "    else:\n",
    "        print('Confusion matrix, without normalization')\n",
    "\n",
    "    #print(cm)\n",
    "    plt.imshow(cm, interpolation='nearest', cmap=cmap)\n",
    "    plt.title(title)\n",
    "    plt.colorbar()\n",
    "    tick_marks = np.arange(len(classes))\n",
    "    plt.xticks(tick_marks, classes, rotation=45)\n",
    "    plt.yticks(tick_marks, classes)\n",
    "\n",
    "    fmt = '.2f' if normalize else 'd'\n",
    "    thresh = cm.max() / 2.\n",
    "    for i, j in itertools.product(range(cm.shape[0]), range(cm.shape[1])):\n",
    "        plt.text(j, i, format(cm[i, j], fmt),\n",
    "                 horizontalalignment=\"center\",\n",
    "                 color=\"white\" if cm[i, j] > thresh else \"black\")\n",
    "\n",
    "    plt.tight_layout()\n",
    "    plt.ylabel('True label')\n",
    "    plt.xlabel('Predicted label')\n",
    "    plt.show()\n",
    "\n",
    "\n",
    "print('Confusion matrix, without normalization')\n",
    "print(cnf_matrix)\n",
    "\n",
    "plt.figure()\n",
    "plot_confusion_matrix(cnf_matrix[1:10,1:10], classes=[0,1,2,3,4,5,6,7,8,9],\n",
    "                      title='Confusion matrix, without normalization')\n",
    "\n",
    "plt.figure()\n",
    "plot_confusion_matrix(cnf_matrix[11:20,11:20], classes=[10,11,12,13,14,15,16,17,18,19,20],\n",
    "                      title='Confusion matrix, without normalization')\n",
    "\n",
    "print(\"Confusion matrix:\\n%s\" % confusion_matrix(np.array(y_test), ynew))\n",
    "print(classification_report(np.array(y_test), ynew))"
   ]
  },
  {
   "cell_type": "code",
   "execution_count": null,
   "metadata": {},
   "outputs": [],
   "source": []
  }
 ],
 "metadata": {
  "kernelspec": {
   "display_name": "Python 3",
   "language": "python",
   "name": "python3"
  },
  "language_info": {
   "codemirror_mode": {
    "name": "ipython",
    "version": 3
   },
   "file_extension": ".py",
   "mimetype": "text/x-python",
   "name": "python",
   "nbconvert_exporter": "python",
   "pygments_lexer": "ipython3",
   "version": "3.8.3"
  }
 },
 "nbformat": 4,
 "nbformat_minor": 2
}
